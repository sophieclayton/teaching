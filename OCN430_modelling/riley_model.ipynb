{
 "metadata": {
  "name": "",
  "signature": "sha256:a3465d60fd9a0338a68d0bd4276fda3f4e553c966e728523d0479d31898192bb"
 },
 "nbformat": 3,
 "nbformat_minor": 0,
 "worksheets": [
  {
   "cells": [
    {
     "cell_type": "markdown",
     "metadata": {},
     "source": [
      "## OCN430 Modelling Practical - Riley's Phytoplankton Population Model (2)\n",
      "Sophie Clayton, Oceanography, November 2014   \n",
      "sclayton@uw.edu\n",
      "\n",
      "This practical is based on Riley's 1946 model of phytoplankton population dynamics on the George's Bank:  \n",
      "Riley, G. A. (1946) Factors Controlling Phytoplankton Populations on George's Bank. *J. Mar. Res.* **6**, pp 54-73\n"
     ]
    },
    {
     "cell_type": "code",
     "collapsed": false,
     "input": [
      "# These few lines of code import all of the different packages that are needed to run code and make nice plots\n",
      "# You don't need to change anything here!\n",
      "% matplotlib inline\n",
      "\n",
      "from math import *\n",
      "import numpy as np\n",
      "import matplotlib.pyplot as plt"
     ],
     "language": "python",
     "metadata": {},
     "outputs": [],
     "prompt_number": 1
    },
    {
     "cell_type": "code",
     "collapsed": false,
     "input": [
      "# This cell contains all of the parameters that are input into Riley's model\n",
      "\n",
      "# Constant parameters\n",
      "p = 2.5 # p, photosynthetic constant, 1/day\n",
      "R0 = 0.0175 # R0, respiratory rate, 1/day\n",
      "r = 0.069 # r, rate of change of respiratory rate with temperature, 1/C \n",
      "g = 0.0075  # g, grazing rate, 1/day \n",
      "P0 = 3.4 # P0, initial phytoplankton concentration, g C/m^2\n",
      "\n",
      "# Seasonally varying parameters\n",
      "# I0, incident solar radiation\n",
      "I0 = [0.088, 0.094, 0.112, 0.138, 0.174, 0.212, 0.247, 0.272, 0.290, 0.306, 0.321, 0.329, 0.319, 0.302, 0.284, 0.267, 0.250, 0.230, 0.204, 0.174, 0.144, 0.115, 0.094, 0.086]\n",
      "# k, extinction coefficient\n",
      "k = [0.121, 0.121, 0.124, 0.128, 0.136, 0.145, 0.159, 0.2, 0.205, 0.17, 0.17, 0.17, 0.17, 0.17, 0.165, 0.162, 0.159, 0.154, 0.145, 0.138, 0.131, 0.126, 0.121, 0.121]\n",
      "# z1, depth of euphotic zone\n",
      "z1 = [34., 34., 35., 35., 35., 34., 32., 26., 25., 31., 32., 32., 32., 31., 32., 32., 32., 33., 34., 34., 35., 35., 34., 33.]\n",
      "# 1-N, correction factor for nutrient depletion\n",
      "N1 = [1.,1.,1.,1.,1.,1.,1.,1.,0.95,0.92,0.9,0.88,0.82,0.76,0.69,0.63,0.60,0.59,0.63,0.69,0.77,0.85,0.92,0.97]\n",
      "# 1-V, correction factor for vertical turbulence\n",
      "V1 = [0.64, 0.64, 0.69, 0.73, 0.78, 0.85, 1, 1, 1, 1, 1, 1, 1, 1, 1, 1, 1, 1, 1, 1, 1, 0.95, 0.76, 0.66]\n",
      "# Ph, estimated mean photosynthetic rate\n",
      "Ph1 = [0.034, 0.036, 0.044, 0.055, 0.071, 0.091, 0.12, 0.13, 0.131, 0.132, 0.134, 0.134, 0.122, 0.108, 0.093, 0.081, 0.073, 0.067, 0.065, 0.063, 0.06, 0.053, 0.039, 0.033]\n",
      "# T, mean surface temperature\n",
      "T = [5.2, 4.1, 3.2, 2.7, 2.4, 2.5, 2.7, 3.4, 4.5, 5.9, 7.6, 9.7, 11.8, 13.9, 15.5, 16.3, 16.6, 16.4, 15.5, 14.2, 12.4, 10.5, 8.5, 6.7]\n",
      "# Rt, estimated phytoplankton respiration\n",
      "Rt = [0.024, 0.023, 0.021, 0.021, 0.021, 0.021, 0.021, 0.021, 0.024, 0.026, 0.03, 0.035, 0.038, 0.045, 0.051, 0.054, 0.056, 0.054, 0.051, 0.045, 0.04, 0.037, 0.031, 0.028]\n",
      "# Z, mean zooplankton biomass\n",
      "Z = [1.3, 1.4, 1.7, 2.6, 4.2, 5.8, 7.5, 8.9, 17.2, 19.3, 18.8, 14.0, 6.9, 6.2, 6.0, 5.7, 5.1, 4.5, 3.9, 3.3, 3.2, 2.6, 2.0, 1.6]\n",
      "# G, grazing rate\n",
      "G1 = [0.01, 0.011, 0.013, 0.02, 0.031, 0.043, 0.056, 0.067, 0.129, 0.145, 0.141, 0.105, 0.052, 0.047, 0.045, 0.043, 0.038, 0.034, 0.029, 0.025, 0.024, 0.02, .0015, 0.012]\n",
      "\n"
     ],
     "language": "python",
     "metadata": {},
     "outputs": [],
     "prompt_number": 2
    },
    {
     "cell_type": "code",
     "collapsed": false,
     "input": [
      "# Here we set some parameters for running the model\n",
      "\n",
      "# time stepping\n",
      "dt = 1. # each time step is 1 day long\n",
      "day = range(0, 12*30, 1)\n",
      "\n",
      "# interpolate the forcing data onto a daily timestep\n",
      "I0d = np.interp(day, range(0, 12*30, 15), I0)\n",
      "kd = np.interp(day, range(0, 12*30, 15), k)\n",
      "z1d = np.interp(day, range(0, 12*30, 15), z1)\n",
      "N1d = np.interp(day, range(0, 12*30, 15), N1)\n",
      "V1d = np.interp(day, range(0, 12*30, 15), V1)\n",
      "Td = np.interp(day, range(0, 12*30, 15), T)\n",
      "Zd = np.interp(day, range(0, 12*30, 15), Z)\n",
      "\n",
      "# pre-assign arrays for results of model\n",
      "P = np.zeros(12*30)\n",
      "Ph = np.zeros(12*30)\n",
      "R = np.zeros(12*30)\n",
      "G = np.zeros(12*30)\n",
      "\n",
      "dP = np.zeros(12*30)\n",
      "P[0] = P0"
     ],
     "language": "python",
     "metadata": {},
     "outputs": [],
     "prompt_number": 3
    },
    {
     "cell_type": "code",
     "collapsed": false,
     "input": [
      "# Here's the implementation of Riley's model in Python... not much to it really.\n",
      "\n",
      "for j in range(0,12*30-1):\n",
      "    Ph[j] = (p*I0d[j])/(kd[j]*z1d[j]) * (1 - exp(-kd[j]*z1d[j])) * N1d[j] * V1d[j]\n",
      "    R[j] = R0 * exp(r*Td[j])\n",
      "    G[j] = g*Zd[j]\n",
      "    dP[j] = P[j]*(Ph[j]-R[j]-G[j])\n",
      "    P[j+1] = P[j] + dP[j]*dt\n",
      "    \n"
     ],
     "language": "python",
     "metadata": {},
     "outputs": [],
     "prompt_number": 4
    },
    {
     "cell_type": "code",
     "collapsed": false,
     "input": [
      "# Plot the ouput of the model\n",
      "\n",
      "plt.plot(day, P)\n",
      "plt.xlabel('Yearday')\n",
      "plt.ylabel('Phytoplankton (g C/m^2)')\n",
      "plt.xlim([0,360])\n",
      "plt.show()\n"
     ],
     "language": "python",
     "metadata": {},
     "outputs": [
      {
       "metadata": {},
       "output_type": "display_data",
       "png": "[encoded data removed]",
       "text": [
        "<matplotlib.figure.Figure at 0x10864cad0>"
       ]
      }
     ],
     "prompt_number": 5
    },
    {
     "cell_type": "code",
     "collapsed": false,
     "input": [
      "# Here's the phytoplankton data again\n",
      "\n",
      "YD = [15,75,105,135,165, 255] # yearday, assuming a simplified calendar with 12 30-day months\n",
      "Pobs = np.float32([118, 828, 2303, 871, 478, 560])*17/1000 # phytoplankton pigments, converted to g C/m^2\n",
      "    \n",
      "# Plot the observed data versus the model output    \n",
      "\n",
      "plt.plot(day,P, 'b-',YD,Pobs,'r.')\n",
      "plt.xlabel('Yearday')\n",
      "plt.ylabel('Phytoplankton (g C/m^2)')\n",
      "plt.xlim([0,360])\n",
      "plt.show()\n",
      "\n",
      "# How does Riley's model compare to the data?"
     ],
     "language": "python",
     "metadata": {},
     "outputs": [
      {
       "metadata": {},
       "output_type": "display_data",
       "png": "[encoded data removed]",
       "text": [
        "<matplotlib.figure.Figure at 0x108693c90>"
       ]
      }
     ],
     "prompt_number": 6
    },
    {
     "cell_type": "markdown",
     "metadata": {},
     "source": [
      "## Experiments in Riley's model - how sensitive is it to the parameter values?\n",
      "\n",
      "Perform a sensitivity analysis of each of the following parameters:\n",
      "+ p, the photosynthetic constant\n",
      "+ R0, the respiratory rate\n",
      "+ g, the grazing rate\n",
      "+ P0, the initial P concentration\n",
      "\n",
      "Try running the model with these parameters increased/decreased by 20%. Only change one parameter at a time, and plot the result along with the baseline model result. The code to do this is set out in the following cell, all you will need to do is change the parameter that you are testing."
     ]
    },
    {
     "cell_type": "code",
     "collapsed": false,
     "input": [],
     "language": "python",
     "metadata": {},
     "outputs": []
    }
   ],
   "metadata": {}
  }
 ]
}