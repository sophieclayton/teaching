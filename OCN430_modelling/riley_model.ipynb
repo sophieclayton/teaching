{
 "metadata": {
  "name": "",
  "signature": "sha256:6fd2fbb770694871b7ec98f53d97dab9a4da2ea018918c2baeda03e9dfe618aa"
 },
 "nbformat": 3,
 "nbformat_minor": 0,
 "worksheets": [
  {
   "cells": [
    {
     "cell_type": "markdown",
     "metadata": {},
     "source": [
      "## OCN430 Modelling Practical - Riley's Phytoplankton Population Model (2)\n",
      "Sophie Clayton, Oceanography, November 2014   \n",
      "sclayton@uw.edu\n",
      "\n",
      "This practical is based on Riley's 1946 model of phytoplankton population dynamics on the George's Bank:  \n",
      "Riley, G. A. (1946) Factors Controlling Phytoplankton Populationson George's Bank. *J. Mar. Res.* **6**, pp 54-73\n"
     ]
    },
    {
     "cell_type": "code",
     "collapsed": false,
     "input": [],
     "language": "python",
     "metadata": {},
     "outputs": []
    }
   ],
   "metadata": {}
  }
 ]
}